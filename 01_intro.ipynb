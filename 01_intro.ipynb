{
 "cells": [
  {
   "cell_type": "markdown",
   "id": "a135aa4d-a407-4baa-9109-ff9e1c64cc2b",
   "metadata": {},
   "source": [
    "# 01.intro\n",
    "\n",
    "## shortcut\n",
    "- ctrl + enter : 현재 셀 실행\n",
    "- shift +enter : 현재 셀 실행 & 아래로 새로운 셀 추가\n",
    "- alt + enter : 현재 셀 실행& 아래에 새로운 셀 추가\n",
    "\n",
    "## 주의사항\n",
    "\n",
    "1. Apple / apple\n",
    "2. git add . / git add.\n",
    "3. message / massage"
   ]
  },
  {
   "cell_type": "code",
   "execution_count": 44,
   "id": "fc5b8f8b-7d22-46a8-a8dd-8f0a7754da3c",
   "metadata": {},
   "outputs": [],
   "source": [
    "# 여기는 주석입니다."
   ]
  },
  {
   "cell_type": "markdown",
   "id": "76ce8c77-9bb2-4412-88e5-608f56a7f6a7",
   "metadata": {},
   "source": [
    "## 1. 변수\n",
    "\n",
    "변수이름 = 값\n",
    "\n",
    "- 변수이름은 어떤 이름이든 사용가능\n",
    "- 다만 영어, 숫자, _를 이용하여 선언\n",
    "- 키워드는 사용 불가"
   ]
  },
  {
   "cell_type": "code",
   "execution_count": 56,
   "id": "7c5f43a8-7531-43d7-9b6f-261c0c1dee7c",
   "metadata": {},
   "outputs": [],
   "source": [
    "a = 30"
   ]
  },
  {
   "cell_type": "code",
   "execution_count": 57,
   "id": "33a27108-79aa-4e77-a7fd-3c66b3ea5daa",
   "metadata": {},
   "outputs": [
    {
     "data": {
      "text/plain": [
       "30"
      ]
     },
     "execution_count": 57,
     "metadata": {},
     "output_type": "execute_result"
    }
   ],
   "source": [
    "a"
   ]
  },
  {
   "cell_type": "code",
   "execution_count": 59,
   "id": "d840fe2e-54ab-418d-a37c-236a7655fc1f",
   "metadata": {},
   "outputs": [
    {
     "data": {
      "text/plain": [
       "['False',\n",
       " 'None',\n",
       " 'True',\n",
       " 'and',\n",
       " 'as',\n",
       " 'assert',\n",
       " 'async',\n",
       " 'await',\n",
       " 'break',\n",
       " 'class',\n",
       " 'continue',\n",
       " 'def',\n",
       " 'del',\n",
       " 'elif',\n",
       " 'else',\n",
       " 'except',\n",
       " 'finally',\n",
       " 'for',\n",
       " 'from',\n",
       " 'global',\n",
       " 'if',\n",
       " 'import',\n",
       " 'in',\n",
       " 'is',\n",
       " 'lambda',\n",
       " 'nonlocal',\n",
       " 'not',\n",
       " 'or',\n",
       " 'pass',\n",
       " 'raise',\n",
       " 'return',\n",
       " 'try',\n",
       " 'while',\n",
       " 'with',\n",
       " 'yield']"
      ]
     },
     "execution_count": 59,
     "metadata": {},
     "output_type": "execute_result"
    }
   ],
   "source": [
    "import keyword\n",
    "keyword.kwlist"
   ]
  },
  {
   "cell_type": "code",
   "execution_count": 60,
   "id": "fbb2e2b8-41a2-467f-bea6-1f7c76399d2e",
   "metadata": {},
   "outputs": [],
   "source": [
    "seoul_dust_rate = 10"
   ]
  },
  {
   "cell_type": "markdown",
   "id": "c6838fc5-a8bf-4ffa-86fb-2af727ff2d28",
   "metadata": {},
   "source": [
    "## 1.1 number"
   ]
  },
  {
   "cell_type": "code",
   "execution_count": 62,
   "id": "b1cdcd6f-ef86-43de-815d-c07f5de1ef43",
   "metadata": {},
   "outputs": [],
   "source": [
    "a = 100000"
   ]
  },
  {
   "cell_type": "code",
   "execution_count": 63,
   "id": "dcb00243-0285-4ee8-90ca-ebfec217525a",
   "metadata": {},
   "outputs": [
    {
     "data": {
      "text/plain": [
       "100000"
      ]
     },
     "execution_count": 63,
     "metadata": {},
     "output_type": "execute_result"
    }
   ],
   "source": [
    "a"
   ]
  },
  {
   "cell_type": "code",
   "execution_count": 64,
   "id": "f8dfd18f-0174-462e-bb80-34524e5acc4e",
   "metadata": {},
   "outputs": [
    {
     "data": {
      "text/plain": [
       "int"
      ]
     },
     "execution_count": 64,
     "metadata": {},
     "output_type": "execute_result"
    }
   ],
   "source": [
    "type(a)"
   ]
  },
  {
   "cell_type": "code",
   "execution_count": 68,
   "id": "7ab714b6-bad4-4713-a545-d8c99e81b429",
   "metadata": {},
   "outputs": [],
   "source": [
    "b = 1.1"
   ]
  },
  {
   "cell_type": "code",
   "execution_count": 69,
   "id": "3715f1d3-6726-42e3-9e6f-f8c8a08c498a",
   "metadata": {},
   "outputs": [
    {
     "data": {
      "text/plain": [
       "1.1"
      ]
     },
     "execution_count": 69,
     "metadata": {},
     "output_type": "execute_result"
    }
   ],
   "source": [
    "b"
   ]
  },
  {
   "cell_type": "code",
   "execution_count": 71,
   "id": "d4536e82-1225-494d-b0de-7a512e940b48",
   "metadata": {},
   "outputs": [
    {
     "data": {
      "text/plain": [
       "float"
      ]
     },
     "execution_count": 71,
     "metadata": {},
     "output_type": "execute_result"
    }
   ],
   "source": [
    "type(b)"
   ]
  },
  {
   "cell_type": "code",
   "execution_count": 72,
   "id": "ed5e4ca7-c663-450e-8d99-c1980ce7f2c2",
   "metadata": {},
   "outputs": [],
   "source": [
    "c = 1 - 4j"
   ]
  },
  {
   "cell_type": "code",
   "execution_count": 73,
   "id": "0345b8c5-5279-44c9-83df-09dc1f06151b",
   "metadata": {},
   "outputs": [
    {
     "data": {
      "text/plain": [
       "(1-4j)"
      ]
     },
     "execution_count": 73,
     "metadata": {},
     "output_type": "execute_result"
    }
   ],
   "source": [
    "c"
   ]
  },
  {
   "cell_type": "code",
   "execution_count": 75,
   "id": "21a676f6-bbe3-4cd8-905d-5d53f617cbc0",
   "metadata": {},
   "outputs": [
    {
     "data": {
      "text/plain": [
       "complex"
      ]
     },
     "execution_count": 75,
     "metadata": {},
     "output_type": "execute_result"
    }
   ],
   "source": [
    "type(c)"
   ]
  },
  {
   "cell_type": "markdown",
   "id": "6612abfa-ba10-4e75-8afb-c0ef70edb791",
   "metadata": {},
   "source": [
    "### 1.2 boolean\n",
    "\n",
    "True,False로 이루어진 타입"
   ]
  },
  {
   "cell_type": "code",
   "execution_count": 76,
   "id": "494148b2-40aa-490b-a921-c37119f8b9dc",
   "metadata": {},
   "outputs": [],
   "source": [
    "a = True"
   ]
  },
  {
   "cell_type": "code",
   "execution_count": 77,
   "id": "e60c5179-0838-420d-aaa9-eddc5cde7c1d",
   "metadata": {},
   "outputs": [
    {
     "data": {
      "text/plain": [
       "True"
      ]
     },
     "execution_count": 77,
     "metadata": {},
     "output_type": "execute_result"
    }
   ],
   "source": [
    "a"
   ]
  },
  {
   "cell_type": "code",
   "execution_count": 78,
   "id": "6eeeb67f-57f0-4621-9be8-806dd40aa7ba",
   "metadata": {},
   "outputs": [
    {
     "data": {
      "text/plain": [
       "bool"
      ]
     },
     "execution_count": 78,
     "metadata": {},
     "output_type": "execute_result"
    }
   ],
   "source": [
    "type(a)"
   ]
  },
  {
   "cell_type": "code",
   "execution_count": 80,
   "id": "b1aeef2f-6e92-4c7c-b72a-c05d7992b1df",
   "metadata": {},
   "outputs": [],
   "source": [
    "b = False"
   ]
  },
  {
   "cell_type": "code",
   "execution_count": 81,
   "id": "85095766-d2bf-4460-81cf-416e16a8c686",
   "metadata": {},
   "outputs": [
    {
     "data": {
      "text/plain": [
       "False"
      ]
     },
     "execution_count": 81,
     "metadata": {},
     "output_type": "execute_result"
    }
   ],
   "source": [
    "b"
   ]
  },
  {
   "cell_type": "code",
   "execution_count": 82,
   "id": "acf682e1-28f4-46d2-8c5c-d3eefec41b16",
   "metadata": {},
   "outputs": [
    {
     "data": {
      "text/plain": [
       "bool"
      ]
     },
     "execution_count": 82,
     "metadata": {},
     "output_type": "execute_result"
    }
   ],
   "source": [
    "type(b)"
   ]
  },
  {
   "cell_type": "markdown",
   "id": "96cfae59-1a6d-48e8-85d0-40395c8c3281",
   "metadata": {},
   "source": [
    "### 1.3 None"
   ]
  },
  {
   "cell_type": "code",
   "execution_count": 83,
   "id": "1f01f58f-f98f-4e4d-a14e-8c4cb719f5c8",
   "metadata": {},
   "outputs": [],
   "source": [
    "a = None "
   ]
  },
  {
   "cell_type": "code",
   "execution_count": 84,
   "id": "8db0c294-0ddf-4e30-98c3-ace56fad04f2",
   "metadata": {},
   "outputs": [
    {
     "data": {
      "text/plain": [
       "NoneType"
      ]
     },
     "execution_count": 84,
     "metadata": {},
     "output_type": "execute_result"
    }
   ],
   "source": [
    "type(a)"
   ]
  },
  {
   "cell_type": "markdown",
   "id": "82ce6e1d-63fb-43c1-9fd6-291764615787",
   "metadata": {},
   "source": [
    "### 1.4 String\n",
    "\n",
    "- 문자열은 ', \"를 이요하여 표현"
   ]
  },
  {
   "cell_type": "code",
   "execution_count": 85,
   "id": "bd682f54-d496-4b06-b74d-0f9f50bd6949",
   "metadata": {},
   "outputs": [],
   "source": [
    "a = 'hello'"
   ]
  },
  {
   "cell_type": "code",
   "execution_count": 86,
   "id": "b5159339-f99d-48a7-9df1-245ceedf5ead",
   "metadata": {},
   "outputs": [
    {
     "data": {
      "text/plain": [
       "str"
      ]
     },
     "execution_count": 86,
     "metadata": {},
     "output_type": "execute_result"
    }
   ],
   "source": [
    "type(a)"
   ]
  },
  {
   "cell_type": "code",
   "execution_count": 88,
   "id": "6fc7a1e9-8a52-4598-874b-ffa72f26fedc",
   "metadata": {},
   "outputs": [],
   "source": [
    "b = 'world'"
   ]
  },
  {
   "cell_type": "code",
   "execution_count": 90,
   "id": "696be0ec-a67e-47b4-9b46-e23be871a715",
   "metadata": {},
   "outputs": [
    {
     "data": {
      "text/plain": [
       "str"
      ]
     },
     "execution_count": 90,
     "metadata": {},
     "output_type": "execute_result"
    }
   ],
   "source": [
    "type(b)"
   ]
  },
  {
   "cell_type": "code",
   "execution_count": 93,
   "id": "39fbbd74-4349-483e-8b0b-fc7fe8831c02",
   "metadata": {},
   "outputs": [
    {
     "name": "stdin",
     "output_type": "stream",
     "text": [
      " 123\n"
     ]
    },
    {
     "name": "stdout",
     "output_type": "stream",
     "text": [
      "123\n",
      "<class 'str'>\n"
     ]
    }
   ],
   "source": [
    "age = input()\n",
    "print(age)\n",
    "print(type(age))"
   ]
  },
  {
   "cell_type": "code",
   "execution_count": 95,
   "id": "40c9ca65-ab1e-474b-8f1c-c26fe602ebe7",
   "metadata": {},
   "outputs": [
    {
     "name": "stdout",
     "output_type": "stream",
     "text": [
      "안녕하세요 '오창희'입니다.\n",
      "안녕하세요 \"오창희\"입니다.\n"
     ]
    }
   ],
   "source": [
    "# print('안녕하세요 '오창희'입니다.')\n",
    "print(\"안녕하세요 '오창희'입니다.\")\n",
    "print('안녕하세요 \"오창희\"입니다.')"
   ]
  },
  {
   "cell_type": "code",
   "execution_count": 97,
   "id": "717ad00e-2fa9-44c0-9913-efc10962711b",
   "metadata": {},
   "outputs": [
    {
     "name": "stdout",
     "output_type": "stream",
     "text": [
      "안녕하세요. '오창희'입니다.\n"
     ]
    }
   ],
   "source": [
    "print('안녕하세요. \\'오창희\\'입니다.')"
   ]
  },
  {
   "cell_type": "code",
   "execution_count": 99,
   "id": "590f7259-ae66-4051-95b0-a2b4150d836f",
   "metadata": {},
   "outputs": [
    {
     "name": "stdout",
     "output_type": "stream",
     "text": [
      "\n",
      "안녕하세요 '오창희'입니다.\n",
      "여러줄도 작성가능합니다.\n",
      "\n"
     ]
    }
   ],
   "source": [
    "a = '''\n",
    "안녕하세요 '오창희'입니다.\n",
    "여러줄도 작성가능합니다.\n",
    "'''\n",
    "print(a)"
   ]
  },
  {
   "cell_type": "code",
   "execution_count": 102,
   "id": "1631ac5a-337f-4ec7-b93d-5e2441eadc84",
   "metadata": {},
   "outputs": [
    {
     "name": "stdout",
     "output_type": "stream",
     "text": [
      "안녕하세요. \n",
      "오창희입니다. \t들여쓰기 이스케이프 문자열입니다.\n"
     ]
    }
   ],
   "source": [
    "print('안녕하세요. \\n오창희입니다. \\t들여쓰기 이스케이프 문자열입니다.')"
   ]
  },
  {
   "cell_type": "markdown",
   "id": "fde98deb-eb8d-402c-958a-b6879f0d8af7",
   "metadata": {},
   "source": [
    "#### string interpolation\n",
    "\n",
    "1. %-formatting\n",
    "2. str.format()\n",
    "3. f-string"
   ]
  },
  {
   "cell_type": "code",
   "execution_count": 104,
   "id": "f68500e7-bdfe-4243-bc18-74233f23938c",
   "metadata": {},
   "outputs": [],
   "source": [
    "age =10"
   ]
  },
  {
   "cell_type": "code",
   "execution_count": 109,
   "id": "6e7990e5-3de7-4ef3-8af8-b614343c4fd4",
   "metadata": {},
   "outputs": [
    {
     "name": "stdout",
     "output_type": "stream",
     "text": [
      "홍길동은 10살 입니다.\n"
     ]
    }
   ],
   "source": [
    "print('홍길동은 %s살 입니다.' % age)"
   ]
  },
  {
   "cell_type": "code",
   "execution_count": 111,
   "id": "bbdfd3de-ba99-41c9-a308-fd8a05d8a5a6",
   "metadata": {},
   "outputs": [
    {
     "name": "stdout",
     "output_type": "stream",
     "text": [
      "홍길동은 10살 입니다.\n"
     ]
    }
   ],
   "source": [
    "print('홍길동은 {}살 입니다.'.format(age))"
   ]
  },
  {
   "cell_type": "code",
   "execution_count": 112,
   "id": "d3c124dd-cc4e-41b1-b62c-e7f4cd7fa0fd",
   "metadata": {},
   "outputs": [
    {
     "name": "stdout",
     "output_type": "stream",
     "text": [
      "홍길동은 10살입니다.\n"
     ]
    }
   ],
   "source": [
    "print(f'홍길동은 {age}살입니다.')"
   ]
  },
  {
   "cell_type": "markdown",
   "id": "fb096547-32e5-4b8c-bf0a-4fb511eb4c7e",
   "metadata": {},
   "source": [
    "## 2. 연산자\n",
    "\n",
    "2.1 산술연산자"
   ]
  },
  {
   "cell_type": "code",
   "execution_count": 113,
   "id": "c8db2435-3f25-4920-a794-f1e15d1d73fd",
   "metadata": {},
   "outputs": [],
   "source": [
    "a = 2 \n",
    "b = 3"
   ]
  },
  {
   "cell_type": "code",
   "execution_count": 119,
   "id": "baceb3be-82f3-46d5-9c42-7617232a8fd9",
   "metadata": {},
   "outputs": [
    {
     "name": "stdout",
     "output_type": "stream",
     "text": [
      "5\n",
      "-1\n",
      "6\n",
      "8\n"
     ]
    }
   ],
   "source": [
    "print(a+b)\n",
    "print(a-b)\n",
    "print(a*b)\n",
    "print(a**b)"
   ]
  },
  {
   "cell_type": "code",
   "execution_count": 121,
   "id": "541289ee-4d92-4d9a-9cde-ce292e3e69eb",
   "metadata": {},
   "outputs": [],
   "source": [
    "a = 7\n",
    "b = 3\n"
   ]
  },
  {
   "cell_type": "code",
   "execution_count": 123,
   "id": "48b09ae2-3cc8-4478-9b5e-59ecf9b39f8f",
   "metadata": {},
   "outputs": [
    {
     "name": "stdout",
     "output_type": "stream",
     "text": [
      "10\n",
      "4\n",
      "21\n",
      "2.3333333333333335\n",
      "343\n"
     ]
    }
   ],
   "source": [
    "print(a+b)\n",
    "print(a-b)\n",
    "print(a*b)\n",
    "print(a/b)\n",
    "print(a**b)"
   ]
  },
  {
   "cell_type": "code",
   "execution_count": null,
   "id": "3d1447e5-043b-4742-b4e0-21c62679066c",
   "metadata": {},
   "outputs": [],
   "source": [
    "# a를 b로 나눈 몫\n",
    "print(a // b)\n",
    "# a를 b로 나눈 나머지 \n",
    "print(a % b)"
   ]
  },
  {
   "cell_type": "markdown",
   "id": "f40fa36e-e8b0-43ca-aeeb-dc87bf3ea275",
   "metadata": {},
   "source": [
    "### 2.2 비교연자자"
   ]
  },
  {
   "cell_type": "code",
   "execution_count": 124,
   "id": "a7ae7a23-274e-4ca5-adc7-72fb57a1645e",
   "metadata": {},
   "outputs": [],
   "source": [
    "a = 5\n",
    "b = 10"
   ]
  },
  {
   "cell_type": "code",
   "execution_count": 125,
   "id": "214ca38d-8c32-48a6-9c4b-223f87aa5e50",
   "metadata": {},
   "outputs": [
    {
     "name": "stdout",
     "output_type": "stream",
     "text": [
      "False\n",
      "True\n",
      "False\n",
      "True\n"
     ]
    }
   ],
   "source": [
    "print(a > b)\n",
    "print(a < b)\n",
    "print(a >= b)\n",
    "print(a <= b)"
   ]
  },
  {
   "cell_type": "code",
   "execution_count": 128,
   "id": "6d1fe03a-5030-4ee6-86b5-7d1450a1f58c",
   "metadata": {},
   "outputs": [
    {
     "name": "stdout",
     "output_type": "stream",
     "text": [
      "False\n",
      "True\n"
     ]
    }
   ],
   "source": [
    "print(a == b)\n",
    "print(a != b)"
   ]
  },
  {
   "cell_type": "code",
   "execution_count": 129,
   "id": "a074b4a1-b56b-4e8a-b8b8-35123d782d94",
   "metadata": {},
   "outputs": [
    {
     "name": "stdout",
     "output_type": "stream",
     "text": [
      "True\n",
      "False\n"
     ]
    }
   ],
   "source": [
    "print('hi' == 'hi')\n",
    "print('HI' == 'hi')"
   ]
  },
  {
   "cell_type": "markdown",
   "id": "7fa92813-c29b-45bd-b8bb-37702d26759c",
   "metadata": {},
   "source": [
    "### 2.3 논리 연자자\n",
    "\n",
    "- and : 양쪽 모두 True일때, True를 반환\n",
    "- or: 양쪽 모두 False일때, False를 반환\n",
    "- not:"
   ]
  },
  {
   "cell_type": "code",
   "execution_count": 130,
   "id": "a3044a26-8e8e-48f5-8364-788c15584176",
   "metadata": {},
   "outputs": [
    {
     "name": "stdout",
     "output_type": "stream",
     "text": [
      "True\n",
      "False\n",
      "False\n",
      "False\n"
     ]
    }
   ],
   "source": [
    "print(True and True)\n",
    "print(True and False)\n",
    "print(False and True)\n",
    "print(False and False)"
   ]
  },
  {
   "cell_type": "code",
   "execution_count": 131,
   "id": "71c88f09-0979-4c41-8d9a-a5ec14ed1d6c",
   "metadata": {},
   "outputs": [
    {
     "name": "stdout",
     "output_type": "stream",
     "text": [
      "True\n",
      "True\n",
      "True\n",
      "False\n"
     ]
    }
   ],
   "source": [
    "print(True or True)\n",
    "print(True or False)\n",
    "print(False or True)\n",
    "print(False or False)"
   ]
  },
  {
   "cell_type": "code",
   "execution_count": 132,
   "id": "b219f2c5-3db5-4ea9-b840-a521b41fa096",
   "metadata": {},
   "outputs": [
    {
     "name": "stdout",
     "output_type": "stream",
     "text": [
      "False\n"
     ]
    }
   ],
   "source": [
    "print(not True)"
   ]
  },
  {
   "cell_type": "code",
   "execution_count": 133,
   "id": "77d46450-f671-45d5-ba1f-faf26c076aed",
   "metadata": {},
   "outputs": [
    {
     "name": "stdout",
     "output_type": "stream",
     "text": [
      "False\n"
     ]
    }
   ],
   "source": [
    "result = True\n",
    "print(not result)"
   ]
  },
  {
   "cell_type": "code",
   "execution_count": 135,
   "id": "584f97ac-9390-4120-a8c0-d542385a1709",
   "metadata": {},
   "outputs": [
    {
     "name": "stdout",
     "output_type": "stream",
     "text": [
      "5\n",
      "0\n",
      "0\n",
      "0\n"
     ]
    }
   ],
   "source": [
    "# 단축평가 (and)\n",
    "\n",
    "print(3 and 5)\n",
    "print(3 and 0)\n",
    "print(0 and 3)\n",
    "print(0 and 0)"
   ]
  },
  {
   "cell_type": "code",
   "execution_count": 136,
   "id": "95481f13-2c0b-4185-970a-bdaed48c804c",
   "metadata": {},
   "outputs": [
    {
     "name": "stdout",
     "output_type": "stream",
     "text": [
      "3\n",
      "3\n",
      "3\n",
      "0\n"
     ]
    }
   ],
   "source": [
    "# 단축평가 (or)\n",
    "\n",
    "print(3 or 5)\n",
    "print(3 or 0)\n",
    "print(0 or 3)\n",
    "print(0 or 0)"
   ]
  },
  {
   "cell_type": "markdown",
   "id": "d03d1a98-ff3c-4499-be33-c8162c398ad7",
   "metadata": {},
   "source": [
    "### 2.4 복합 연산자"
   ]
  },
  {
   "cell_type": "code",
   "execution_count": 138,
   "id": "4b451992-d872-4928-bdc4-d72653d62114",
   "metadata": {},
   "outputs": [],
   "source": [
    "a = 1\n",
    "b = 2"
   ]
  },
  {
   "cell_type": "code",
   "execution_count": 140,
   "id": "4c72f6ee-689a-4178-be85-da4f5e563ef8",
   "metadata": {},
   "outputs": [],
   "source": [
    "a = a + b\n",
    "a = a - b\n",
    "a = a * b\n",
    "a = a / b"
   ]
  },
  {
   "cell_type": "code",
   "execution_count": 142,
   "id": "f081f96a-4838-4ed5-a927-2e9f57179a5b",
   "metadata": {},
   "outputs": [],
   "source": [
    "a += b\n",
    "a -= b\n",
    "a *= b\n",
    "a //= b\n",
    "a %= b\n",
    "a**= b"
   ]
  },
  {
   "cell_type": "code",
   "execution_count": 143,
   "id": "198bd5c4-50c9-41a6-9ead-b34d41f834f7",
   "metadata": {},
   "outputs": [],
   "source": [
    "### 2.5 기타 연산자"
   ]
  },
  {
   "cell_type": "code",
   "execution_count": 144,
   "id": "d6c5df31-ad0c-4ca9-8631-a18200719bd4",
   "metadata": {},
   "outputs": [],
   "source": [
    "a = 'hi'\n",
    "b = 'hello'"
   ]
  },
  {
   "cell_type": "code",
   "execution_count": 146,
   "id": "cdb58cee-ad35-41e5-8e32-4d49a69f85f5",
   "metadata": {},
   "outputs": [
    {
     "name": "stdout",
     "output_type": "stream",
     "text": [
      "hihello\n"
     ]
    }
   ],
   "source": [
    "# concatenation\n",
    "print(a + b)"
   ]
  },
  {
   "cell_type": "code",
   "execution_count": 147,
   "id": "856fb62d-c288-48b0-9708-ffb30ffd3e78",
   "metadata": {},
   "outputs": [],
   "source": [
    "a = [1, 2, 3]\n",
    "b = [4, 5, 6]"
   ]
  },
  {
   "cell_type": "code",
   "execution_count": 148,
   "id": "ad91d687-6606-40c3-a053-66b11bf8a0b4",
   "metadata": {},
   "outputs": [
    {
     "name": "stdout",
     "output_type": "stream",
     "text": [
      "[1, 2, 3, 4, 5, 6]\n"
     ]
    }
   ],
   "source": [
    "print(a + b)"
   ]
  },
  {
   "cell_type": "code",
   "execution_count": 150,
   "id": "0f38d51e-e2d2-4e39-91c3-d9dfcbadc3e5",
   "metadata": {},
   "outputs": [
    {
     "name": "stdout",
     "output_type": "stream",
     "text": [
      "True\n",
      "False\n"
     ]
    }
   ],
   "source": [
    "# containment\n",
    "print(1 in a)\n",
    "print(10 in a)"
   ]
  },
  {
   "cell_type": "code",
   "execution_count": 154,
   "id": "158a703c-dae9-4eef-9795-c08bea4e858d",
   "metadata": {},
   "outputs": [
    {
     "name": "stdout",
     "output_type": "stream",
     "text": [
      "True\n",
      "True\n"
     ]
    }
   ],
   "source": [
    "# identity\n",
    "\n",
    "a = 3\n",
    "b = 3\n",
    "\n",
    "print(a == b)\n",
    "print(a is b)"
   ]
  },
  {
   "cell_type": "code",
   "execution_count": 152,
   "id": "a4e951f6-2885-4e91-b463-cabe9b386284",
   "metadata": {},
   "outputs": [
    {
     "name": "stdout",
     "output_type": "stream",
     "text": [
      "True\n",
      "False\n"
     ]
    }
   ],
   "source": [
    "a = 123123\n",
    "b = 123123\n",
    "\n",
    "print(a == b)\n",
    "print(a is b)"
   ]
  },
  {
   "cell_type": "markdown",
   "id": "0303467d-27de-45f5-8775-efb7589e584a",
   "metadata": {},
   "source": [
    "#### 우선순위\n",
    "\n",
    "0. ()를 통해 그룹\n",
    "1. **\n",
    "2. 산술연산자(*, /)\n",
    "3. 산술연산자(+, -)\n",
    "4. 비교연산자,in,is\n",
    "5. not\n",
    "6. and\n",
    "7. or"
   ]
  },
  {
   "cell_type": "code",
   "execution_count": 155,
   "id": "d2369baf-e673-4ce5-9d91-fbce45fccde7",
   "metadata": {},
   "outputs": [
    {
     "name": "stdout",
     "output_type": "stream",
     "text": [
      "-81\n",
      "81\n"
     ]
    }
   ],
   "source": [
    "print(-3 ** 4)\n",
    "print ((-3) **4)"
   ]
  },
  {
   "cell_type": "markdown",
   "id": "039066e1-34e9-4ffa-86ec-e9f8a9c374f8",
   "metadata": {},
   "source": [
    "## 3.형변환\n",
    "\n",
    "3.1 암시적 형변환"
   ]
  },
  {
   "cell_type": "code",
   "execution_count": 156,
   "id": "19ff0a0c-5e8f-4eee-9c40-4c20195c0ac6",
   "metadata": {},
   "outputs": [],
   "source": [
    "a = True\n",
    "b = False\n",
    "c = 1"
   ]
  },
  {
   "cell_type": "code",
   "execution_count": 157,
   "id": "18860de6-c98d-4b4b-91e0-2c87e4fcd090",
   "metadata": {},
   "outputs": [
    {
     "name": "stdout",
     "output_type": "stream",
     "text": [
      "1\n"
     ]
    }
   ],
   "source": [
    "print(a + b)"
   ]
  },
  {
   "cell_type": "code",
   "execution_count": 158,
   "id": "2874d46b-8044-4d35-9a66-d0223aed80ff",
   "metadata": {},
   "outputs": [
    {
     "name": "stdout",
     "output_type": "stream",
     "text": [
      "1\n",
      "-1\n"
     ]
    }
   ],
   "source": [
    "print(a + b)\n",
    "print(b - c)"
   ]
  },
  {
   "cell_type": "code",
   "execution_count": 159,
   "id": "d4979f41-6e3f-4759-a1ad-56828ffd9f83",
   "metadata": {},
   "outputs": [],
   "source": [
    "int_num = 3\n",
    "float_num = 3.3\n",
    "complex_num = 3 + 3j"
   ]
  },
  {
   "cell_type": "code",
   "execution_count": 160,
   "id": "02f9d0b7-44ab-4f3b-bc57-7137a11cbc5f",
   "metadata": {
    "scrolled": true
   },
   "outputs": [
    {
     "name": "stdout",
     "output_type": "stream",
     "text": [
      "<class 'float'>\n",
      "(6.3+3j)\n"
     ]
    }
   ],
   "source": [
    "print(type(int_num + float_num))\n",
    "print(float_num + complex_num)"
   ]
  },
  {
   "cell_type": "code",
   "execution_count": 163,
   "id": "4a105a11-7bdb-4769-85c2-492da1d32f6d",
   "metadata": {},
   "outputs": [],
   "source": [
    "my_list = [1,2,3,4,5]\n",
    "my_tuple = (1,2,3,4,5)\n",
    "my_range = range(5)\n",
    "my_string = '12345'"
   ]
  },
  {
   "cell_type": "code",
   "execution_count": 164,
   "id": "ebe518c5-c8c1-46ad-a42a-1024358dd063",
   "metadata": {
    "scrolled": true
   },
   "outputs": [
    {
     "name": "stdout",
     "output_type": "stream",
     "text": [
      "[2, 3]\n",
      "(2, 3)\n",
      "range(1, 3)\n",
      "23\n"
     ]
    }
   ],
   "source": [
    "# slicing\n",
    "print(my_list[1:3])\n",
    "print(my_tuple[1:3])\n",
    "print(my_range[1:3])\n",
    "               \n",
    "print(my_string[1:3])"
   ]
  },
  {
   "cell_type": "code",
   "execution_count": 165,
   "id": "6b0f494c-6df3-47e6-b8d6-b1a702e6c5dc",
   "metadata": {},
   "outputs": [
    {
     "name": "stdout",
     "output_type": "stream",
     "text": [
      "[1, 2, 3, 4, 5, 6, 7, 8, 9, 10]\n",
      "(1, 2, 3, 4, 5, 6, 7, 8, 9, 10)\n",
      "12345678910\n"
     ]
    }
   ],
   "source": [
    "# concatenation\n",
    "print(my_list + [6, 7, 8, 9, 10])\n",
    "print(my_tuple + (6, 7, 8, 9, 10))\n",
    "print(my_string + '678910')"
   ]
  },
  {
   "cell_type": "code",
   "execution_count": 168,
   "id": "2d5edbd1-4170-424f-afae-61cbca2761e1",
   "metadata": {},
   "outputs": [
    {
     "name": "stdout",
     "output_type": "stream",
     "text": [
      "##########\n",
      "[0, 0, 0, 0, 0, 0, 0, 0, 0, 0]\n"
     ]
    }
   ],
   "source": [
    "# *\n",
    "print('#' * 10)\n",
    "print([0] * 10)"
   ]
  },
  {
   "cell_type": "code",
   "execution_count": 169,
   "id": "fad7761b-7e89-431e-a930-40ae55438e2a",
   "metadata": {},
   "outputs": [
    {
     "name": "stdout",
     "output_type": "stream",
     "text": [
      "5\n"
     ]
    }
   ],
   "source": [
    "print(len(my_list))"
   ]
  },
  {
   "cell_type": "code",
   "execution_count": 170,
   "id": "7747a4fb-a4bb-4544-863f-e1e4581fc8df",
   "metadata": {},
   "outputs": [
    {
     "name": "stdout",
     "output_type": "stream",
     "text": [
      "1\n"
     ]
    }
   ],
   "source": [
    "print(min(my_list))"
   ]
  },
  {
   "cell_type": "markdown",
   "id": "0de0f78c-46a4-42e9-80aa-a1e947edcf94",
   "metadata": {},
   "source": [
    "## 5. 시퀀스형이 아닌 자료구조"
   ]
  },
  {
   "cell_type": "markdown",
   "id": "d8c91522-cfbd-407e-b715-7ba69a071225",
   "metadata": {},
   "source": [
    "### 5.1 set\n",
    "\n",
    "수학에서 사용하는 집합과 동일한 개념 (중복값이 없음)\n",
    "\n",
    "-선언: 변수이름 = {value1, value2, value3 ...}"
   ]
  },
  {
   "cell_type": "code",
   "execution_count": 2,
   "id": "c0384a53-495b-43f7-909e-18e7f6575fba",
   "metadata": {},
   "outputs": [],
   "source": [
    "my_set_a = {1, 3, 5, 7, 9}\n",
    "my_set_b = {1, 2, 3, 4, 5}"
   ]
  },
  {
   "cell_type": "code",
   "execution_count": 3,
   "id": "1df16b02-bc91-45db-a313-fb78e5307bcb",
   "metadata": {},
   "outputs": [
    {
     "name": "stdout",
     "output_type": "stream",
     "text": [
      "{9, 7}\n",
      "{1, 2, 3, 4, 5, 7, 9}\n",
      "{1, 3, 5}\n"
     ]
    }
   ],
   "source": [
    "print(my_set_a - my_set_b)\n",
    "print(my_set_a | my_set_b)\n",
    "print(my_set_a & my_set_b)"
   ]
  },
  {
   "cell_type": "code",
   "execution_count": 5,
   "id": "09c70235-32a3-4e4d-971c-19e429385964",
   "metadata": {},
   "outputs": [
    {
     "name": "stdout",
     "output_type": "stream",
     "text": [
      "{1, 2, 3, 4, 5, 6}\n"
     ]
    }
   ],
   "source": [
    "test_set = {1, 2, 3, 4, 1, 3, 4, 5 ,6 ,1, 2, 3, 4, 5}\n",
    "print(test_set)"
   ]
  },
  {
   "cell_type": "markdown",
   "id": "f0d9a5d3-d8b5-4a0e-b206-c9d5ab2a3c31",
   "metadata": {},
   "source": [
    "## 5.2 Dictionary\n",
    "\n",
    "- 선언: 변수이름 = {key1: value1, key2: value2, ...}\n",
    "- 접근: 변수이름[key]"
   ]
  },
  {
   "cell_type": "code",
   "execution_count": 10,
   "id": "95955af3-016f-4d89-8a0d-bfffcc1371c1",
   "metadata": {},
   "outputs": [
    {
     "name": "stdout",
     "output_type": "stream",
     "text": [
      "{'서울': '02', '경기': '031'}\n",
      "02\n"
     ]
    }
   ],
   "source": [
    "my_dict= {'서울': '02', '경기': '031'}\n",
    "print(my_dict)\n",
    "print(my_dict['서울'])"
   ]
  },
  {
   "cell_type": "code",
   "execution_count": 13,
   "id": "7fcda20c-a539-4e66-82f6-9f2cd145eb0a",
   "metadata": {},
   "outputs": [
    {
     "name": "stdout",
     "output_type": "stream",
     "text": [
      "seoul\n"
     ]
    }
   ],
   "source": [
    "my_info= {\n",
    "    'name': 'changhee',\n",
    "    'location': 'seoul',\n",
    "    'age': 10,\n",
    "}\n",
    "\n",
    "print(my_info['location'])"
   ]
  },
  {
   "cell_type": "code",
   "execution_count": null,
   "id": "0342cc5d-093b-46e9-ad38-83ec2dd8f59e",
   "metadata": {},
   "outputs": [],
   "source": [
    "my_info"
   ]
  },
  {
   "cell_type": "code",
   "execution_count": null,
   "id": "1613bc7f-7ade-4519-afa7-c1ff1a23fe52",
   "metadata": {},
   "outputs": [],
   "source": [
    "##### 데이터 타입\n",
    "1. Number\n",
    "2. Boolean\n",
    "3. String\n",
    "\n",
    "##### 자료구조\n",
    "- 시퀀스 자료형\n",
    "\n",
    "1. [List] : mutable\n",
    "2. (Tuple): immutable\n",
    "3. range(): immutable\n",
    "4. 'String' : immutable\n",
    "\n",
    "\n",
    "-시퀀스가 아닌 자료형\n",
    "1. {Set} : mutable\n",
    "2. {Dict : ionary} : mutable"
   ]
  },
  {
   "cell_type": "code",
   "execution_count": null,
   "id": "bcb5bd67-f952-41f9-bc76-7284ea100f18",
   "metadata": {},
   "outputs": [],
   "source": []
  }
 ],
 "metadata": {
  "kernelspec": {
   "display_name": "Python 3 (ipykernel)",
   "language": "python",
   "name": "python3"
  },
  "language_info": {
   "codemirror_mode": {
    "name": "ipython",
    "version": 3
   },
   "file_extension": ".py",
   "mimetype": "text/x-python",
   "name": "python",
   "nbconvert_exporter": "python",
   "pygments_lexer": "ipython3",
   "version": "3.12.4"
  }
 },
 "nbformat": 4,
 "nbformat_minor": 5
}
