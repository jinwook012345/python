{
 "cells": [
  {
   "cell_type": "markdown",
   "id": "3496c2b3-b187-49a2-873e-776b3ac75a72",
   "metadata": {},
   "source": [
    "# 제어문 \n",
    "\n",
    "# 조건문 (if문)\n",
    "\n",
    "1. if문은 반드시 일정한 참/거짓을 판단 할 수 있는 '조건식'과 함께 사용된다.\n",
    "   - ('if <조건식>:')\n",
    "2. '<조건식>' 참(True)인 경우 ':' 이후의 문장을 실행\n",
    "\n",
    "if <조건식>: if의 조건식이 참인 경우 실행\n",
    "\n",
    "else: if의 조건식이 거짓인 경우 실행"
   ]
  },
  {
   "cell_type": "code",
   "execution_count": 5,
   "id": "08ffdf10-f6c0-47dd-82f7-ed9618cf40c0",
   "metadata": {},
   "outputs": [
    {
     "name": "stdin",
     "output_type": "stream",
     "text": [
      " 12/25\n"
     ]
    },
    {
     "name": "stdout",
     "output_type": "stream",
     "text": [
      "크리스마스입니다.\n"
     ]
    }
   ],
   "source": [
    "my_string = input()\n",
    "\n",
    "if my_string == '12/25':\n",
    "    print('크리스마스입니다.')\n",
    "else:\n",
    "    print('크리스마스가 아닙니다.')"
   ]
  },
  {
   "cell_type": "code",
   "execution_count": 12,
   "id": "82fb5aa1-f1c3-40ee-bc36-13427564dffb",
   "metadata": {},
   "outputs": [
    {
     "name": "stdin",
     "output_type": "stream",
     "text": [
      "숫자를 입력해주세요 18\n"
     ]
    },
    {
     "name": "stdout",
     "output_type": "stream",
     "text": [
      "짝수입니다\n"
     ]
    }
   ],
   "source": [
    "num = input('숫자를 입력해주세요')\n",
    "\n",
    "result = int(num) % 2\n",
    "\n",
    "if bool(result):\n",
    "    print('홀수입니다.')\n",
    "else:\n",
    "    print('짝수입니다')"
   ]
  },
  {
   "cell_type": "code",
   "execution_count": 13,
   "id": "d0cfd458-754d-4c09-8e34-ab2bbad73770",
   "metadata": {},
   "outputs": [
    {
     "name": "stdin",
     "output_type": "stream",
     "text": [
      " 123\n"
     ]
    },
    {
     "name": "stdout",
     "output_type": "stream",
     "text": [
      "홀수\n"
     ]
    }
   ],
   "source": [
    "num = int(input())\n",
    "\n",
    "if num % 2 == 1:\n",
    "    print('홀수')\n",
    "else:\n",
    "    print('짝수')"
   ]
  },
  {
   "cell_type": "code",
   "execution_count": 15,
   "id": "9b188904-6fc2-4ecb-8e21-d8c8922341ba",
   "metadata": {},
   "outputs": [
    {
     "name": "stdin",
     "output_type": "stream",
     "text": [
      " 123\n"
     ]
    },
    {
     "name": "stdout",
     "output_type": "stream",
     "text": [
      "홀수\n"
     ]
    }
   ],
   "source": [
    "num = int(input())\n",
    "\n",
    "if num % 2 == 0:\n",
    "    print('짝수')\n",
    "else:\n",
    "    print('홀수')"
   ]
  },
  {
   "cell_type": "code",
   "execution_count": 48,
   "id": "41c5c79d-e586-48ed-b71b-fa050acd61ff",
   "metadata": {},
   "outputs": [
    {
     "name": "stdin",
     "output_type": "stream",
     "text": [
      " 124\n"
     ]
    },
    {
     "name": "stdout",
     "output_type": "stream",
     "text": [
      "짝수\n"
     ]
    }
   ],
   "source": [
    "num = int(input())\n",
    "\n",
    "if num % 2:\n",
    "    print('홀수')\n",
    "else:\n",
    "    print('짝수')"
   ]
  },
  {
   "cell_type": "code",
   "execution_count": null,
   "id": "889a1ce2-579c-4c8a-93f8-53097014af93",
   "metadata": {},
   "outputs": [],
   "source": [
    "## elif <조건식>:"
   ]
  },
  {
   "cell_type": "code",
   "execution_count": 43,
   "id": "a75d9a54-7014-48c8-abeb-0fb280209d9a",
   "metadata": {},
   "outputs": [
    {
     "name": "stdin",
     "output_type": "stream",
     "text": [
      " 95\n"
     ]
    }
   ],
   "source": [
    "score = int(input())"
   ]
  },
  {
   "cell_type": "code",
   "execution_count": 35,
   "id": "d824b29c-2d82-4eae-a661-93a44e2c873c",
   "metadata": {},
   "outputs": [
    {
     "name": "stdout",
     "output_type": "stream",
     "text": [
      "C\n"
     ]
    }
   ],
   "source": [
    "# 90점 이상 A\n",
    "# 80~90 B\n",
    "# 70~79 C\n",
    "# 나머지 F\n",
    "\n",
    "if score >= 90:\n",
    "    print('A')\n",
    "elif score >= 80 and score <= 89:\n",
    "    print('B')\n",
    "elif 70 <= score <= 79 :\n",
    "    print('C')"
   ]
  },
  {
   "cell_type": "code",
   "execution_count": 45,
   "id": "ec00018a-265b-4664-ab7a-4d7eb8e55d55",
   "metadata": {},
   "outputs": [
    {
     "name": "stdout",
     "output_type": "stream",
     "text": [
      "A\n",
      "참잘했어요\n"
     ]
    }
   ],
   "source": [
    "if score >= 90:\n",
    "    print('A')\n",
    "    if score >= 95:\n",
    "        print('참잘했어요')\n",
    "    \n",
    "elif score >= 80:\n",
    "    print('B')"
   ]
  },
  {
   "cell_type": "markdown",
   "id": "044627e6-4a60-4529-ad8f-a6fec2747738",
   "metadata": {},
   "source": [
    "### 조건표현식\n",
    "\n",
    "```\n",
    "true_value if <조건식> else false_value\n",
    "```"
   ]
  },
  {
   "cell_type": "code",
   "execution_count": 49,
   "id": "9070e23c-acda-4d84-935b-cf337f9e30fc",
   "metadata": {},
   "outputs": [
    {
     "name": "stdout",
     "output_type": "stream",
     "text": [
      "False\n"
     ]
    }
   ],
   "source": [
    "print('True') if 1 < 0 else print('False')"
   ]
  },
  {
   "cell_type": "code",
   "execution_count": 55,
   "id": "a18a5f77-a4ab-4448-84d5-837336c8e5a4",
   "metadata": {},
   "outputs": [
    {
     "name": "stdin",
     "output_type": "stream",
     "text": [
      " 3\n"
     ]
    },
    {
     "name": "stdout",
     "output_type": "stream",
     "text": [
      "3\n"
     ]
    }
   ],
   "source": [
    "num = int(input())\n",
    "value= num\n",
    "\n",
    "if num >= 0:\n",
    "    print(value)\n",
    "else:\n",
    "    print('0')"
   ]
  },
  {
   "cell_type": "markdown",
   "id": "e9468f5f-b7c9-4681-9475-3236bcf396f3",
   "metadata": {},
   "source": [
    "## 반복문\n",
    "\n",
    "### while문\n",
    "\n",
    "```\n",
    "while <조건식>:\n",
    "    실행할 코드\n",
    "```"
   ]
  },
  {
   "cell_type": "code",
   "execution_count": 56,
   "id": "6d0cbbfd-ca9f-4b05-a686-0d944c18e675",
   "metadata": {},
   "outputs": [
    {
     "name": "stdout",
     "output_type": "stream",
     "text": [
      "0\n",
      "1\n",
      "2\n",
      "3\n",
      "4\n"
     ]
    }
   ],
   "source": [
    "a=0\n",
    "\n",
    "while a < 5:\n",
    "    print(a)\n",
    "    a+= 1"
   ]
  },
  {
   "cell_type": "code",
   "execution_count": 58,
   "id": "cecd3e0c-0d8c-4af1-881f-6c1fda7ac359",
   "metadata": {},
   "outputs": [
    {
     "name": "stdin",
     "output_type": "stream",
     "text": [
      "안녕이라고 말해줘 asdf\n",
      "안녕이라고 말해줘 asdf\n",
      "안녕이라고 말해줘 asdf\n",
      "안녕이라고 말해줘 안녕\n"
     ]
    }
   ],
   "source": [
    "greeting = ''\n",
    "\n",
    "while greeting != '안녕':\n",
    "    greeting = input('안녕이라고 말해줘')"
   ]
  },
  {
   "cell_type": "markdown",
   "id": "63ebd7f6-b16f-42aa-8990-2b17efb297d6",
   "metadata": {},
   "source": [
    "### for\n",
    "\n",
    "정해진 범위 내의 반복\n",
    "```\n",
    "for variable in sequence:\n",
    "    code\n",
    "```"
   ]
  },
  {
   "cell_type": "code",
   "execution_count": 59,
   "id": "6ff80413-40e4-4847-912a-9f36d53c125a",
   "metadata": {},
   "outputs": [
    {
     "name": "stdout",
     "output_type": "stream",
     "text": [
      "1\n",
      "2\n",
      "3\n",
      "4\n",
      "5\n"
     ]
    }
   ],
   "source": [
    "numbers = [1, 2, 3, 4, 5]\n",
    "\n",
    "for number in numbers:\n",
    "    print(number)"
   ]
  },
  {
   "cell_type": "code",
   "execution_count": 61,
   "id": "8c5b183c-3365-4904-a1f1-be9c1b19f0a6",
   "metadata": {},
   "outputs": [
    {
     "name": "stdin",
     "output_type": "stream",
     "text": [
      "단어를 입력해주세요 apple\n"
     ]
    },
    {
     "name": "stdout",
     "output_type": "stream",
     "text": [
      "a\n",
      "p\n",
      "p\n",
      "l\n",
      "e\n"
     ]
    }
   ],
   "source": [
    "word = input('단어를 입력해주세요')\n",
    "\n",
    "for char in word:\n",
    "    print(char)"
   ]
  },
  {
   "cell_type": "code",
   "execution_count": 62,
   "id": "3717ee55-c38c-4da6-bff0-319a38629a97",
   "metadata": {},
   "outputs": [
    {
     "name": "stdout",
     "output_type": "stream",
     "text": [
      "0\n",
      "1\n",
      "2\n",
      "3\n",
      "4\n"
     ]
    }
   ],
   "source": [
    "for i in range(5):\n",
    "    print(i)"
   ]
  },
  {
   "cell_type": "code",
   "execution_count": 68,
   "id": "23064927-7084-4338-bf6d-3a785ed0cd82",
   "metadata": {},
   "outputs": [
    {
     "name": "stdout",
     "output_type": "stream",
     "text": [
      "1\n",
      "2\n",
      "3\n",
      "4\n",
      "5\n"
     ]
    }
   ],
   "source": [
    "for i in (1, 2, 3, 4, 5):\n",
    "    print(i)"
   ]
  },
  {
   "cell_type": "code",
   "execution_count": 64,
   "id": "8f221971-64d1-44bd-9da6-a766a3ad451d",
   "metadata": {},
   "outputs": [],
   "source": [
    "# 1~30 까지 숫자들 중에서 홀수만 출력"
   ]
  },
  {
   "cell_type": "code",
   "execution_count": 80,
   "id": "627e5420-e3a6-4c4a-b2f6-9ccd4a18d6fb",
   "metadata": {},
   "outputs": [
    {
     "name": "stdout",
     "output_type": "stream",
     "text": [
      "1\n",
      "3\n",
      "5\n",
      "7\n",
      "9\n",
      "11\n",
      "13\n",
      "15\n",
      "17\n",
      "19\n",
      "21\n",
      "23\n",
      "25\n",
      "27\n",
      "29\n"
     ]
    }
   ],
   "source": [
    "for i in range(1,31):\n",
    "    if i % 2 == 1:\n",
    "        print(i)"
   ]
  },
  {
   "cell_type": "code",
   "execution_count": 76,
   "id": "621bbe97-c7da-4b6e-8b46-d45834a2236e",
   "metadata": {},
   "outputs": [
    {
     "name": "stdout",
     "output_type": "stream",
     "text": [
      "1\n",
      "3\n",
      "5\n",
      "7\n",
      "9\n",
      "11\n",
      "13\n",
      "15\n",
      "17\n",
      "19\n",
      "21\n",
      "23\n",
      "25\n",
      "27\n",
      "29\n"
     ]
    }
   ],
   "source": [
    "numbers = range(31)\n",
    "for number in numbers:\n",
    "    if number % 2:\n",
    "        print(number)"
   ]
  },
  {
   "cell_type": "code",
   "execution_count": 82,
   "id": "41e864b7-1b70-450a-9726-20ed4cadccd4",
   "metadata": {},
   "outputs": [
    {
     "name": "stdout",
     "output_type": "stream",
     "text": [
      "(0, '라면')\n",
      "(1, '김밥')\n",
      "(2, '백반')\n"
     ]
    }
   ],
   "source": [
    "menus = ['라면', '김밥', '백반']\n",
    "for menu in enumerate(menus):\n",
    "    print(menu)"
   ]
  },
  {
   "cell_type": "code",
   "execution_count": null,
   "id": "1e26bcd5-d0eb-4d68-8a52-c35f69f4511d",
   "metadata": {},
   "outputs": [],
   "source": [
    "for index, menu in enumerate(menus):\n",
    "    print(index)\n",
    "    print(menu)"
   ]
  },
  {
   "cell_type": "code",
   "execution_count": 84,
   "id": "d2f1268c-839f-4c28-a7ee-4ce51fc341c6",
   "metadata": {},
   "outputs": [
    {
     "name": "stdout",
     "output_type": "stream",
     "text": [
      "1 2\n"
     ]
    }
   ],
   "source": [
    "x, y = (1, 2)\n",
    "print (x, y)"
   ]
  },
  {
   "cell_type": "markdown",
   "id": "f3f1109f-b3ee-4947-9989-39348e812c4d",
   "metadata": {},
   "source": [
    "### dictionary 반복"
   ]
  },
  {
   "cell_type": "code",
   "execution_count": 96,
   "id": "d7aa7684-297a-41dc-89f5-6d4128c05e61",
   "metadata": {},
   "outputs": [],
   "source": [
    "info = {\n",
    "    'name': 'gildong',\n",
    "    'location': 'seoul',\n",
    "    'phone': '010-1234-1234',\n",
    "    'age': 20,\n",
    "}"
   ]
  },
  {
   "cell_type": "code",
   "execution_count": null,
   "id": "54f1edb8-cd40-4e44-b936-28a74afd25a1",
   "metadata": {},
   "outputs": [],
   "source": [
    "1. for key in dict:\n",
    "2. for key in"
   ]
  },
  {
   "cell_type": "code",
   "execution_count": 97,
   "id": "7497bc39-5c5d-449d-8858-7c9d04ca8a14",
   "metadata": {},
   "outputs": [
    {
     "name": "stdout",
     "output_type": "stream",
     "text": [
      "name\n",
      "gildong\n",
      "location\n",
      "seoul\n",
      "phone\n",
      "010-1234-1234\n",
      "age\n",
      "20\n"
     ]
    }
   ],
   "source": [
    "for cat in info:\n",
    "    print(cat)\n",
    "    print(info[cat])"
   ]
  },
  {
   "cell_type": "code",
   "execution_count": 99,
   "id": "20e5d136-ab2a-4028-90c3-01c01dffa30e",
   "metadata": {},
   "outputs": [
    {
     "name": "stdout",
     "output_type": "stream",
     "text": [
      "gildong\n",
      "seoul\n",
      "010-1234-1234\n",
      "20\n"
     ]
    }
   ],
   "source": [
    "for value in info.values():\n",
    "    print(value)"
   ]
  },
  {
   "cell_type": "code",
   "execution_count": 100,
   "id": "c20753dd-3780-4447-a793-6818f7f940a0",
   "metadata": {},
   "outputs": [
    {
     "name": "stdout",
     "output_type": "stream",
     "text": [
      "name gildong\n",
      "location seoul\n",
      "phone 010-1234-1234\n",
      "age 20\n"
     ]
    }
   ],
   "source": [
    "for key, value in info.items():\n",
    "    print(key, value)"
   ]
  },
  {
   "cell_type": "code",
   "execution_count": 101,
   "id": "c4ee36b7-adcf-467a-b5f8-76de538724d6",
   "metadata": {},
   "outputs": [],
   "source": [
    "blood_type = {\n",
    "    'A': 5,\n",
    "    'B': 3,\n",
    "    'O': 2,\n",
    "    'AB': 2,\n",
    "}\n",
    "    "
   ]
  },
  {
   "cell_type": "code",
   "execution_count": 103,
   "id": "87ecb026-2b8b-4b6e-b6a9-a7176a567a89",
   "metadata": {},
   "outputs": [
    {
     "name": "stdout",
     "output_type": "stream",
     "text": [
      "혈액형의 종류는 A B O AB 가 있습니다\n"
     ]
    }
   ],
   "source": [
    "# 혈액형의 종류는 ?? ?? 입니다.\n",
    "print ('혈액형의 종류는', end=' ')\n",
    "for key in blood_type.keys():\n",
    "    print(key, end=' ')\n",
    "print ('가 있습니다')"
   ]
  },
  {
   "cell_type": "code",
   "execution_count": 107,
   "id": "11d2e180-6698-45b4-88a8-feaf9fd4ad25",
   "metadata": {},
   "outputs": [
    {
     "name": "stdout",
     "output_type": "stream",
     "text": [
      "총 학생수는 12명입니다.\n"
     ]
    }
   ],
   "source": [
    "# 총 학생수는 몇명입니다.\n",
    "result= 0\n",
    "for value in blood_type.values():\n",
    "    result = result + value\n",
    "\n",
    "print(f'총 학생수는 {result}명입니다.')"
   ]
  },
  {
   "cell_type": "markdown",
   "id": "db834aef-ee4d-4db9-be2d-fbeae8b655bf",
   "metadata": {},
   "source": [
    "## break\n",
    "\n",
    "반복문을 "
   ]
  },
  {
   "cell_type": "code",
   "execution_count": 109,
   "id": "113850b5-cfc6-47d1-8f02-8c0f3b0dec62",
   "metadata": {},
   "outputs": [
    {
     "name": "stdout",
     "output_type": "stream",
     "text": [
      "보리\n",
      "보리\n",
      "보리\n",
      "보리\n",
      "쌀\n",
      "잡았다\n"
     ]
    }
   ],
   "source": [
    "rice = ['보리', '보리', '보리', '보리', '쌀', '보리']\n",
    "\n",
    "for r in rice:\n",
    "    print(r)\n",
    "    if r == '쌀':\n",
    "        print('잡았다')\n",
    "        break"
   ]
  },
  {
   "cell_type": "code",
   "execution_count": 123,
   "id": "86335f35-41d8-4625-b183-8b73575ab921",
   "metadata": {},
   "outputs": [
    {
     "name": "stdout",
     "output_type": "stream",
     "text": [
      "보리\n",
      "보리\n",
      "보리\n",
      "보리\n",
      "잡았다\n"
     ]
    }
   ],
   "source": [
    "i = 0\n",
    "\n",
    "while True:\n",
    "    if rice[i] == '쌀':\n",
    "       print('잡았다')\n",
    "       break\n",
    "    print(rice[i])\n",
    "    i = i + 1"
   ]
  },
  {
   "cell_type": "markdown",
   "id": "b3d38732-5cac-4fb0-ab7a-81703449637e",
   "metadata": {},
   "source": [
    "### continue\n",
    "\n",
    "continue 이후의 코드를 실행하지 않고 다음 반복을 진행"
   ]
  },
  {
   "cell_type": "code",
   "execution_count": 125,
   "id": "42156ea2-c8f3-49b3-aefc-a841cb779068",
   "metadata": {},
   "outputs": [
    {
     "name": "stdout",
     "output_type": "stream",
     "text": [
      "0\n",
      "2\n",
      "4\n",
      "6\n",
      "8\n",
      "10\n",
      "12\n",
      "14\n",
      "16\n",
      "18\n"
     ]
    }
   ],
   "source": [
    "for i in range(20):\n",
    "    if i % 2:\n",
    "        continue\n",
    "    print(i)"
   ]
  },
  {
   "cell_type": "code",
   "execution_count": 128,
   "id": "2d1a008f-b11f-44e8-8092-619422467719",
   "metadata": {},
   "outputs": [
    {
     "name": "stdout",
     "output_type": "stream",
     "text": [
      "38살은 성인입니다.\n",
      "82살은 성인입니다.\n",
      "39살은 성인입니다.\n"
     ]
    }
   ],
   "source": [
    "ages = [10, 20, 38, 82, 11, 13, 39]\n",
    "\n",
    "for age in ages:\n",
    "    if age <= 20:\n",
    "        continue\n",
    "    print(f'{age}살은 성인입니다.')"
   ]
  },
  {
   "cell_type": "markdown",
   "id": "797ae18c-05df-45fd-baba-b2d310b23f01",
   "metadata": {},
   "source": [
    "## else\n",
    "\n",
    "else문은 끝까지 반복된 후 실행됩니다.\n",
    "break를 만나지 않았을 때 실행됩니다."
   ]
  },
  {
   "cell_type": "code",
   "execution_count": 129,
   "id": "c6cebf30-a648-41ad-86c8-ea4af8aa214e",
   "metadata": {},
   "outputs": [
    {
     "name": "stdout",
     "output_type": "stream",
     "text": [
      "0\n",
      "1\n",
      "2\n",
      "3\n",
      "4\n",
      "5\n"
     ]
    }
   ],
   "source": [
    "for i in range(10):\n",
    "    if i >5:\n",
    "        break\n",
    "    print(i)\n",
    "else:\n",
    "    print('else입니다')"
   ]
  },
  {
   "cell_type": "markdown",
   "id": "a8e0e14d-bb2c-4379-8a00-d0c7bb119a1b",
   "metadata": {},
   "source": [
    "### pass"
   ]
  },
  {
   "cell_type": "code",
   "execution_count": 130,
   "id": "420d53c8-416a-4f8b-af42-727cf5800894",
   "metadata": {},
   "outputs": [],
   "source": [
    "if True:\n",
    "    pass"
   ]
  },
  {
   "cell_type": "markdown",
   "id": "a00b8800-59b0-4395-ac2d-de8f4859bb4c",
   "metadata": {},
   "source": [
    "### match\n",
    "\n",
    "```\n",
    "match value:\n",
    "    case 조건:\n",
    "        code\n",
    "    case_:\n",
    "        code"
   ]
  },
  {
   "cell_type": "code",
   "execution_count": 133,
   "id": "3d95d6ef-6044-4f53-8ec9-28959dcc36f3",
   "metadata": {},
   "outputs": [
    {
     "name": "stdout",
     "output_type": "stream",
     "text": [
      "i dont know\n"
     ]
    }
   ],
   "source": [
    "status = 123\n",
    "\n",
    "match status:\n",
    "    case 200:\n",
    "        print('ok')\n",
    "    case 404:\n",
    "        print('bad')\n",
    "    case _:\n",
    "        print('i dont know')"
   ]
  },
  {
   "cell_type": "code",
   "execution_count": null,
   "id": "7a23c6ea-7619-42e3-a23b-e61c4fe23850",
   "metadata": {},
   "outputs": [],
   "source": []
  }
 ],
 "metadata": {
  "kernelspec": {
   "display_name": "Python 3 (ipykernel)",
   "language": "python",
   "name": "python3"
  },
  "language_info": {
   "codemirror_mode": {
    "name": "ipython",
    "version": 3
   },
   "file_extension": ".py",
   "mimetype": "text/x-python",
   "name": "python",
   "nbconvert_exporter": "python",
   "pygments_lexer": "ipython3",
   "version": "3.12.4"
  }
 },
 "nbformat": 4,
 "nbformat_minor": 5
}
